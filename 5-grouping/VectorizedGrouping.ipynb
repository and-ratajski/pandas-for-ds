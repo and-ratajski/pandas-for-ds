{
 "cells": [
  {
   "cell_type": "code",
   "execution_count": 1,
   "id": "9f379d3d",
   "metadata": {},
   "outputs": [],
   "source": [
    "import pandas as pd"
   ]
  },
  {
   "cell_type": "code",
   "execution_count": 2,
   "id": "f7ea7b6e",
   "metadata": {},
   "outputs": [
    {
     "name": "stderr",
     "output_type": "stream",
     "text": [
      "/var/folders/8g/vflxk7vd1sj2bbxxydl87kbw0000gn/T/ipykernel_6274/3410829617.py:5: FutureWarning: The argument 'date_parser' is deprecated and will be removed in a future version. Please use 'date_format' instead, or read your data in as 'object' dtype and then call 'to_datetime'.\n",
      "  df = pd.read_csv(\n"
     ]
    }
   ],
   "source": [
    "def parse_millisecond_timestamp(ts):\n",
    "    \"\"\"Convert ms since Unix epoch to UTC datetime instance.\"\"\"\n",
    "    return pd.to_datetime(ts, unit=\"ms\")\n",
    "\n",
    "df = pd.read_csv(\n",
    "    \"groupby-data/news.csv\",\n",
    "    sep=\"\\t\",\n",
    "    header=None,\n",
    "    index_col=0,\n",
    "    names=[\"title\", \"url\", \"outlet\", \"category\", \"cluster\", \"host\", \"tstamp\"],\n",
    "    parse_dates=[\"tstamp\"],\n",
    "    date_parser=parse_millisecond_timestamp,\n",
    "    dtype={\n",
    "        \"outlet\": \"category\",\n",
    "        \"category\": \"category\",\n",
    "        \"cluster\": \"category\",\n",
    "        \"host\": \"category\",\n",
    "    },\n",
    ")"
   ]
  },
  {
   "cell_type": "code",
   "execution_count": 4,
   "id": "d21c3bb9",
   "metadata": {},
   "outputs": [
    {
     "data": {
      "text/plain": [
       "title       Fed official says weak data caused by weather,...\n",
       "url         http://www.latimes.com/business/money/la-fi-mo...\n",
       "outlet                                      Los Angeles Times\n",
       "category                                                    b\n",
       "cluster                         ddUyU0VZz0BRneMioxUPQVP6sIxvM\n",
       "host                                          www.latimes.com\n",
       "tstamp                             2014-03-10 16:52:50.698000\n",
       "Name: 1, dtype: object"
      ]
     },
     "execution_count": 4,
     "metadata": {},
     "output_type": "execute_result"
    }
   ],
   "source": [
    "df.iloc[0]"
   ]
  },
  {
   "cell_type": "code",
   "execution_count": 6,
   "id": "1e467b14",
   "metadata": {},
   "outputs": [
    {
     "data": {
      "text/plain": [
       "outlet\n",
       "Reuters                         161\n",
       "NASDAQ                          103\n",
       "Businessweek                     93\n",
       "Investing.com                    66\n",
       "Wall Street Journal \\(blog\\)     61\n",
       "MarketWatch                      56\n",
       "Moneynews                        55\n",
       "Bloomberg                        53\n",
       "GlobalPost                       51\n",
       "Economic Times                   44\n",
       "Name: title, dtype: int64"
      ]
     },
     "execution_count": 6,
     "metadata": {},
     "output_type": "execute_result"
    }
   ],
   "source": [
    "df.groupby(\"outlet\", sort=False, observed=False)[\"title\"].apply(\n",
    "    lambda ser: ser.str.contains(\"Fed\").sum()\n",
    ").nlargest(10)"
   ]
  },
  {
   "cell_type": "code",
   "execution_count": 9,
   "id": "6e1ab5fa",
   "metadata": {},
   "outputs": [],
   "source": [
    "## Better approach"
   ]
  },
  {
   "cell_type": "code",
   "execution_count": 10,
   "id": "8803e96d",
   "metadata": {},
   "outputs": [],
   "source": [
    "import numpy as np"
   ]
  },
  {
   "cell_type": "code",
   "execution_count": 12,
   "id": "8ca9a6f7",
   "metadata": {},
   "outputs": [
    {
     "data": {
      "text/plain": [
       "outlet\n",
       "Reuters                         161\n",
       "NASDAQ                          103\n",
       "Businessweek                     93\n",
       "Investing.com                    66\n",
       "Wall Street Journal \\(blog\\)     61\n",
       "MarketWatch                      56\n",
       "Moneynews                        55\n",
       "Bloomberg                        53\n",
       "GlobalPost                       51\n",
       "Economic Times                   44\n",
       "Name: title, dtype: uint32"
      ]
     },
     "execution_count": 12,
     "metadata": {},
     "output_type": "execute_result"
    }
   ],
   "source": [
    "mentions_fed = df[\"title\"].str.contains(\"Fed\")\n",
    "mentions_fed.groupby(\n",
    "    df[\"outlet\"], sort=False, observed=False\n",
    ").sum().nlargest(10).astype(np.uintc)"
   ]
  },
  {
   "cell_type": "code",
   "execution_count": 14,
   "id": "33f58bd8",
   "metadata": {},
   "outputs": [],
   "source": [
    "import timeit"
   ]
  },
  {
   "cell_type": "code",
   "execution_count": 16,
   "id": "b13ddc08",
   "metadata": {},
   "outputs": [
    {
     "name": "stdout",
     "output_type": "stream",
     "text": [
      "Version 1: 7.137802042001567\n",
      "Version 2: 0.2348733329999959\n"
     ]
    }
   ],
   "source": [
    "def test_apply():\n",
    "    \"\"\"Version 1: using `.apply()`\"\"\"\n",
    "    df.groupby(\"outlet\", sort=False, observed=False)[\"title\"].apply(\n",
    "        lambda ser: ser.str.contains(\"Fed\").sum()\n",
    "    ).nlargest(10)\n",
    "\n",
    "def test_vectorization():\n",
    "    \"\"\"Version 2: using vectorization\"\"\"\n",
    "    mentions_fed = df[\"title\"].str.contains(\"Fed\")\n",
    "    mentions_fed.groupby(\n",
    "        df[\"outlet\"], sort=False, observed=False\n",
    "    ).sum().nlargest(10).astype(np.uintc)\n",
    "\n",
    "print(f\"Version 1: {timeit.timeit(test_apply, number=3)}\")\n",
    "print(f\"Version 2: {timeit.timeit(test_vectorization, number=3)}\")"
   ]
  },
  {
   "cell_type": "code",
   "execution_count": null,
   "id": "d6972455",
   "metadata": {},
   "outputs": [],
   "source": []
  }
 ],
 "metadata": {
  "kernelspec": {
   "display_name": "Python [conda env:pandas-for-ds-env]",
   "language": "python",
   "name": "conda-env-pandas-for-ds-env-py"
  },
  "language_info": {
   "codemirror_mode": {
    "name": "ipython",
    "version": 3
   },
   "file_extension": ".py",
   "mimetype": "text/x-python",
   "name": "python",
   "nbconvert_exporter": "python",
   "pygments_lexer": "ipython3",
   "version": "3.11.5"
  }
 },
 "nbformat": 4,
 "nbformat_minor": 5
}
