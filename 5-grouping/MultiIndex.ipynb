{
 "cells": [
  {
   "cell_type": "code",
   "execution_count": 4,
   "id": "1fe65cc0",
   "metadata": {},
   "outputs": [],
   "source": [
    "import pandas as pd"
   ]
  },
  {
   "cell_type": "code",
   "execution_count": 6,
   "id": "ab9015c1",
   "metadata": {},
   "outputs": [],
   "source": [
    "dtypes = {\n",
    "    \"first_name\": \"category\",\n",
    "    \"gender\": \"category\",\n",
    "    \"type\": \"category\",\n",
    "    \"state\": \"category\",\n",
    "    \"party\": \"category\",\n",
    "}"
   ]
  },
  {
   "cell_type": "code",
   "execution_count": 7,
   "id": "1cdc2357",
   "metadata": {},
   "outputs": [],
   "source": [
    "df = pd.read_csv(\n",
    "    \"groupby-data/legislators-historical.csv\",\n",
    "    dtype=dtypes,\n",
    "    usecols=list(dtypes) + [\"birthday\", \"last_name\"],\n",
    "    parse_dates=[\"birthday\"]\n",
    ")"
   ]
  },
  {
   "cell_type": "code",
   "execution_count": 10,
   "id": "78f5369c",
   "metadata": {},
   "outputs": [
    {
     "data": {
      "text/html": [
       "<div>\n",
       "<style scoped>\n",
       "    .dataframe tbody tr th:only-of-type {\n",
       "        vertical-align: middle;\n",
       "    }\n",
       "\n",
       "    .dataframe tbody tr th {\n",
       "        vertical-align: top;\n",
       "    }\n",
       "\n",
       "    .dataframe thead th {\n",
       "        text-align: right;\n",
       "    }\n",
       "</style>\n",
       "<table border=\"1\" class=\"dataframe\">\n",
       "  <thead>\n",
       "    <tr style=\"text-align: right;\">\n",
       "      <th></th>\n",
       "      <th>last_name</th>\n",
       "      <th>first_name</th>\n",
       "      <th>birthday</th>\n",
       "      <th>gender</th>\n",
       "      <th>type</th>\n",
       "      <th>state</th>\n",
       "      <th>party</th>\n",
       "    </tr>\n",
       "  </thead>\n",
       "  <tbody>\n",
       "    <tr>\n",
       "      <th>11970</th>\n",
       "      <td>Garrett</td>\n",
       "      <td>Thomas</td>\n",
       "      <td>1972-03-27</td>\n",
       "      <td>M</td>\n",
       "      <td>rep</td>\n",
       "      <td>VA</td>\n",
       "      <td>Republican</td>\n",
       "    </tr>\n",
       "    <tr>\n",
       "      <th>11971</th>\n",
       "      <td>Handel</td>\n",
       "      <td>Karen</td>\n",
       "      <td>1962-04-18</td>\n",
       "      <td>F</td>\n",
       "      <td>rep</td>\n",
       "      <td>GA</td>\n",
       "      <td>Republican</td>\n",
       "    </tr>\n",
       "    <tr>\n",
       "      <th>11972</th>\n",
       "      <td>Jones</td>\n",
       "      <td>Brenda</td>\n",
       "      <td>1959-10-24</td>\n",
       "      <td>F</td>\n",
       "      <td>rep</td>\n",
       "      <td>MI</td>\n",
       "      <td>Democrat</td>\n",
       "    </tr>\n",
       "    <tr>\n",
       "      <th>11973</th>\n",
       "      <td>Marino</td>\n",
       "      <td>Tom</td>\n",
       "      <td>1952-08-15</td>\n",
       "      <td>M</td>\n",
       "      <td>rep</td>\n",
       "      <td>PA</td>\n",
       "      <td>Republican</td>\n",
       "    </tr>\n",
       "    <tr>\n",
       "      <th>11974</th>\n",
       "      <td>Jones</td>\n",
       "      <td>Walter</td>\n",
       "      <td>1943-02-10</td>\n",
       "      <td>M</td>\n",
       "      <td>rep</td>\n",
       "      <td>NC</td>\n",
       "      <td>Republican</td>\n",
       "    </tr>\n",
       "  </tbody>\n",
       "</table>\n",
       "</div>"
      ],
      "text/plain": [
       "      last_name first_name   birthday gender type state       party\n",
       "11970   Garrett     Thomas 1972-03-27      M  rep    VA  Republican\n",
       "11971    Handel      Karen 1962-04-18      F  rep    GA  Republican\n",
       "11972     Jones     Brenda 1959-10-24      F  rep    MI    Democrat\n",
       "11973    Marino        Tom 1952-08-15      M  rep    PA  Republican\n",
       "11974     Jones     Walter 1943-02-10      M  rep    NC  Republican"
      ]
     },
     "execution_count": 10,
     "metadata": {},
     "output_type": "execute_result"
    }
   ],
   "source": [
    "df.tail()"
   ]
  },
  {
   "cell_type": "code",
   "execution_count": 11,
   "id": "d070f017",
   "metadata": {},
   "outputs": [
    {
     "data": {
      "text/plain": [
       "<bound method DataFrame.info of       last_name  first_name   birthday gender type state                party\n",
       "0       Bassett     Richard 1745-04-02      M  sen    DE  Anti-Administration\n",
       "1         Bland  Theodorick 1742-03-21      M  rep    VA                  NaN\n",
       "2         Burke     Aedanus 1743-06-16      M  rep    SC                  NaN\n",
       "3       Carroll      Daniel 1730-07-22      M  rep    MD                  NaN\n",
       "4        Clymer      George 1739-03-16      M  rep    PA                  NaN\n",
       "...         ...         ...        ...    ...  ...   ...                  ...\n",
       "11970   Garrett      Thomas 1972-03-27      M  rep    VA           Republican\n",
       "11971    Handel       Karen 1962-04-18      F  rep    GA           Republican\n",
       "11972     Jones      Brenda 1959-10-24      F  rep    MI             Democrat\n",
       "11973    Marino         Tom 1952-08-15      M  rep    PA           Republican\n",
       "11974     Jones      Walter 1943-02-10      M  rep    NC           Republican\n",
       "\n",
       "[11975 rows x 7 columns]>"
      ]
     },
     "execution_count": 11,
     "metadata": {},
     "output_type": "execute_result"
    }
   ],
   "source": [
    "df.info"
   ]
  },
  {
   "cell_type": "markdown",
   "id": "c78a5048",
   "metadata": {},
   "source": [
    "## Pandas grouping (creating <code>MultiIndex</code>)"
   ]
  },
  {
   "cell_type": "code",
   "execution_count": 15,
   "id": "4618099d",
   "metadata": {},
   "outputs": [
    {
     "data": {
      "text/plain": [
       "state\n",
       "AK     16\n",
       "AL    206\n",
       "AR    117\n",
       "AS      2\n",
       "AZ     48\n",
       "CA    361\n",
       "CO     90\n",
       "CT    240\n",
       "DC      2\n",
       "DE     97\n",
       "Name: last_name, dtype: int64"
      ]
     },
     "execution_count": 15,
     "metadata": {},
     "output_type": "execute_result"
    }
   ],
   "source": [
    "n_by_state = df.groupby(by=\"state\", observed=False)[\"last_name\"].count()\n",
    "n_by_state.head(10)"
   ]
  },
  {
   "cell_type": "code",
   "execution_count": 18,
   "id": "75b098ed",
   "metadata": {},
   "outputs": [
    {
     "data": {
      "text/plain": [
       "state  gender\n",
       "AK     F           0\n",
       "       M          16\n",
       "AL     F           3\n",
       "       M         203\n",
       "AR     F           5\n",
       "                ... \n",
       "WI     M         196\n",
       "WV     F           1\n",
       "       M         119\n",
       "WY     F           2\n",
       "       M          38\n",
       "Name: last_name, Length: 116, dtype: int64"
      ]
     },
     "execution_count": 18,
     "metadata": {},
     "output_type": "execute_result"
    }
   ],
   "source": [
    "df.groupby(by=[\"state\", \"gender\"], observed=False)[\"last_name\"].count()"
   ]
  },
  {
   "cell_type": "markdown",
   "id": "b9c203a0",
   "metadata": {},
   "source": [
    "## Acting more SQL-like (no <code>MultiIndex</code>)"
   ]
  },
  {
   "cell_type": "code",
   "execution_count": 19,
   "id": "f5e7672e",
   "metadata": {},
   "outputs": [
    {
     "data": {
      "text/html": [
       "<div>\n",
       "<style scoped>\n",
       "    .dataframe tbody tr th:only-of-type {\n",
       "        vertical-align: middle;\n",
       "    }\n",
       "\n",
       "    .dataframe tbody tr th {\n",
       "        vertical-align: top;\n",
       "    }\n",
       "\n",
       "    .dataframe thead th {\n",
       "        text-align: right;\n",
       "    }\n",
       "</style>\n",
       "<table border=\"1\" class=\"dataframe\">\n",
       "  <thead>\n",
       "    <tr style=\"text-align: right;\">\n",
       "      <th></th>\n",
       "      <th>state</th>\n",
       "      <th>gender</th>\n",
       "      <th>last_name</th>\n",
       "    </tr>\n",
       "  </thead>\n",
       "  <tbody>\n",
       "    <tr>\n",
       "      <th>0</th>\n",
       "      <td>AK</td>\n",
       "      <td>F</td>\n",
       "      <td>0</td>\n",
       "    </tr>\n",
       "    <tr>\n",
       "      <th>1</th>\n",
       "      <td>AK</td>\n",
       "      <td>M</td>\n",
       "      <td>16</td>\n",
       "    </tr>\n",
       "    <tr>\n",
       "      <th>2</th>\n",
       "      <td>AL</td>\n",
       "      <td>F</td>\n",
       "      <td>3</td>\n",
       "    </tr>\n",
       "    <tr>\n",
       "      <th>3</th>\n",
       "      <td>AL</td>\n",
       "      <td>M</td>\n",
       "      <td>203</td>\n",
       "    </tr>\n",
       "    <tr>\n",
       "      <th>4</th>\n",
       "      <td>AR</td>\n",
       "      <td>F</td>\n",
       "      <td>5</td>\n",
       "    </tr>\n",
       "    <tr>\n",
       "      <th>...</th>\n",
       "      <td>...</td>\n",
       "      <td>...</td>\n",
       "      <td>...</td>\n",
       "    </tr>\n",
       "    <tr>\n",
       "      <th>111</th>\n",
       "      <td>WI</td>\n",
       "      <td>M</td>\n",
       "      <td>196</td>\n",
       "    </tr>\n",
       "    <tr>\n",
       "      <th>112</th>\n",
       "      <td>WV</td>\n",
       "      <td>F</td>\n",
       "      <td>1</td>\n",
       "    </tr>\n",
       "    <tr>\n",
       "      <th>113</th>\n",
       "      <td>WV</td>\n",
       "      <td>M</td>\n",
       "      <td>119</td>\n",
       "    </tr>\n",
       "    <tr>\n",
       "      <th>114</th>\n",
       "      <td>WY</td>\n",
       "      <td>F</td>\n",
       "      <td>2</td>\n",
       "    </tr>\n",
       "    <tr>\n",
       "      <th>115</th>\n",
       "      <td>WY</td>\n",
       "      <td>M</td>\n",
       "      <td>38</td>\n",
       "    </tr>\n",
       "  </tbody>\n",
       "</table>\n",
       "<p>116 rows × 3 columns</p>\n",
       "</div>"
      ],
      "text/plain": [
       "    state gender  last_name\n",
       "0      AK      F          0\n",
       "1      AK      M         16\n",
       "2      AL      F          3\n",
       "3      AL      M        203\n",
       "4      AR      F          5\n",
       "..    ...    ...        ...\n",
       "111    WI      M        196\n",
       "112    WV      F          1\n",
       "113    WV      M        119\n",
       "114    WY      F          2\n",
       "115    WY      M         38\n",
       "\n",
       "[116 rows x 3 columns]"
      ]
     },
     "execution_count": 19,
     "metadata": {},
     "output_type": "execute_result"
    }
   ],
   "source": [
    "df.groupby(by=[\"state\", \"gender\"], as_index=False, observed=False)[\"last_name\"].count()"
   ]
  },
  {
   "cell_type": "code",
   "execution_count": null,
   "id": "2a16fbf3",
   "metadata": {},
   "outputs": [],
   "source": []
  }
 ],
 "metadata": {
  "kernelspec": {
   "display_name": "Python [conda env:pandas-for-ds-env]",
   "language": "python",
   "name": "conda-env-pandas-for-ds-env-py"
  },
  "language_info": {
   "codemirror_mode": {
    "name": "ipython",
    "version": 3
   },
   "file_extension": ".py",
   "mimetype": "text/x-python",
   "name": "python",
   "nbconvert_exporter": "python",
   "pygments_lexer": "ipython3",
   "version": "3.11.5"
  }
 },
 "nbformat": 4,
 "nbformat_minor": 5
}
